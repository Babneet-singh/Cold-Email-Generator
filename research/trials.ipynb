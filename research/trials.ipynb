{
 "cells": [
  {
   "cell_type": "code",
   "execution_count": 5,
   "metadata": {},
   "outputs": [
    {
     "name": "stdout",
     "output_type": "stream",
     "text": [
      "The term \"artificial intelligence\" was first introduced by John McCarthy in 1956 at the Dartmouth Conference, where he organized a two-month, 10-person workshop to explore the topic. McCarthy, who is considered one of the founding pioneers of AI, defined it as \"the science and engineering of making intelligent machines.\" The Dartmouth Conference is often considered the official beginning of the field of artificial intelligence.\n"
     ]
    }
   ],
   "source": [
    "from langchain_groq import ChatGroq\n",
    "\n",
    "llm = ChatGroq(\n",
    "    model=\"mixtral-8x7b-32768\",\n",
    "    groq_api_key='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'\n",
    "    # other params...\n",
    ")\n",
    "response=llm.invoke(\"First person to introduce the term AI\")\n",
    "print(response.content) "
   ]
  },
  {
   "cell_type": "code",
   "execution_count": null,
   "metadata": {},
   "outputs": [],
   "source": []
  }
 ],
 "metadata": {
  "kernelspec": {
   "display_name": "coldemail2",
   "language": "python",
   "name": "python3"
  },
  "language_info": {
   "codemirror_mode": {
    "name": "ipython",
    "version": 3
   },
   "file_extension": ".py",
   "mimetype": "text/x-python",
   "name": "python",
   "nbconvert_exporter": "python",
   "pygments_lexer": "ipython3",
   "version": "3.9.21"
  }
 },
 "nbformat": 4,
 "nbformat_minor": 2
}
